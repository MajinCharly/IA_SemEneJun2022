{
  "nbformat": 4,
  "nbformat_minor": 0,
  "metadata": {
    "colab": {
      "name": "IA_A2_CarlosSolorio_1847820.ipynb",
      "provenance": [],
      "collapsed_sections": [],
      "authorship_tag": "ABX9TyOWYj+/3p1VMgiIegamH/oc",
      "include_colab_link": true
    },
    "kernelspec": {
      "name": "python3",
      "display_name": "Python 3"
    },
    "language_info": {
      "name": "python"
    }
  },
  "cells": [
    {
      "cell_type": "markdown",
      "metadata": {
        "id": "view-in-github",
        "colab_type": "text"
      },
      "source": [
        "<a href=\"https://colab.research.google.com/github/MajinCharly/IA_SemEneJun2022/blob/main/ActividadesFundamentales/IA_A2_CarlosSolorio_1847820.ipynb\" target=\"_parent\"><img src=\"https://colab.research.google.com/assets/colab-badge.svg\" alt=\"Open In Colab\"/></a>"
      ]
    },
    {
      "cell_type": "markdown",
      "source": [
        "# A2 - Ejercicios básicos de Python\n",
        "\n",
        "**Nombre:** Carlos Eduardo Solorio Nuncio\n",
        "\n",
        "**Matrícula:** 1847820\n",
        "\n",
        "**Hora clase:** Jueves N1-3"
      ],
      "metadata": {
        "id": "I7mVWgztnBur"
      }
    },
    {
      "cell_type": "markdown",
      "source": [
        "Ejercicio #1: Escribe un programa que le pida al usuario por su nombre y que lo salude con su nombre, excepto si se llama “Ana”, “Juan”, y “Pedro”."
      ],
      "metadata": {
        "id": "CO11r7k-oVvT"
      }
    },
    {
      "cell_type": "code",
      "source": [
        "Nombre = input('¿Cuál es su nombre?:')  #Input del nombre\n",
        "if Nombre=='Ana':\n",
        "  print(\"Su nombre no es válido\")\n",
        "elif Nombre=='Pedro':\n",
        "  print(\"Su nombre no es válido\")       #Compara con los nombres prohibidos\n",
        "elif Nombre=='Juan':                    #Si coincide imprime que no es válido\n",
        "  print(\"Su nombre no es válido\")\n",
        "else:                                   #Despues de comprobar, imprime el \n",
        "  print(\"Hola \"+ Nombre)       #nombre si no era prohibido"
      ],
      "metadata": {
        "colab": {
          "base_uri": "https://localhost:8080/"
        },
        "id": "DBbLzXmioWC5",
        "outputId": "85af69d8-86cb-41fd-83db-d21a069aff78"
      },
      "execution_count": 77,
      "outputs": [
        {
          "output_type": "stream",
          "name": "stdout",
          "text": [
            "¿Cuál es su nombre?:Tomas\n",
            "Hola Tomas\n"
          ]
        }
      ]
    },
    {
      "cell_type": "markdown",
      "source": [
        "Ejercicio #2: Escribe una función que regrese el último elemento de una lista y que revierta el orden de la lista e imprima la lista revertida."
      ],
      "metadata": {
        "id": "zlFhU1NOAdlh"
      }
    },
    {
      "cell_type": "code",
      "source": [
        "lista=[]                                      #Definimos una lista vacía\n",
        "numero = int(input('Número de elementos: '))  #Define el tamaño de lista\n",
        "for x in range(numero):\n",
        "  dato=input(\"Ingrese elemento de lista: \")   #Introduce los elementos de lista\n",
        "  lista.append(dato)\n",
        "\n",
        "ultimo=len(lista)-1                           #Tamaño de la lista\n",
        "print('El último dato de la lista es ' + lista[ultimo])\n",
        "nlista=[]    #Se imprime el ultimo elemento y definimos nueva lista vacia\n",
        "\n",
        "while(ultimo>=0):\n",
        "  nlista.append(lista[ultimo])        #revertimos la lista\n",
        "  ultimo=ultimo-1\n",
        "\n",
        "print('La lista revertida es: ')      #Se imprime la lista\n",
        "print(nlista)\n"
      ],
      "metadata": {
        "colab": {
          "base_uri": "https://localhost:8080/"
        },
        "id": "4Hd6S40pAqA-",
        "outputId": "fcce8494-f86d-440e-eea6-cc10c1751333"
      },
      "execution_count": 48,
      "outputs": [
        {
          "output_type": "stream",
          "name": "stdout",
          "text": [
            "Número de elementos: 3\n",
            "Ingrese elemento de lista: 1\n",
            "Ingrese elemento de lista: 2\n",
            "Ingrese elemento de lista: 3\n",
            "El último dato de la lista es 3\n",
            "La lista revertida es: \n",
            "['3', '2', '1']\n"
          ]
        }
      ]
    },
    {
      "cell_type": "markdown",
      "source": [
        "Ejercicio #3: Escribe una función que toma una lista de strings y los imprima línea por línea en un marco rectangular."
      ],
      "metadata": {
        "id": "T2nZQ-HWApEQ"
      }
    },
    {
      "cell_type": "code",
      "source": [
        "lista=[]                                    #Definimos una lista vacía\n",
        "numero = int(input('Número de elementos: '))  #Define el tamaño de lista\n",
        "for x in range(numero):\n",
        "  dato=input(\"Ingrese elemento de lista: \")  #Introduce los elementos de lista\n",
        "  lista.append(dato)\n",
        "\n",
        "print('*******')\n",
        "for x in range(numero):\n",
        "  print('*'+lista[x]+'    *')               #Imprimimos la lista\n",
        "\n",
        "print('*******')\n"
      ],
      "metadata": {
        "colab": {
          "base_uri": "https://localhost:8080/"
        },
        "id": "b0emd6E2AqNA",
        "outputId": "bb70b15d-b1ab-45c5-b31f-cd107d557ce5"
      },
      "execution_count": 89,
      "outputs": [
        {
          "output_type": "stream",
          "name": "stdout",
          "text": [
            "Número de elementos: 3\n",
            "Ingrese elemento de lista: 1\n",
            "Ingrese elemento de lista: 2\n",
            "Ingrese elemento de lista: 3\n",
            "*******\n",
            "*1    *\n",
            "*2    *\n",
            "*3    *\n",
            "*******\n"
          ]
        }
      ]
    }
  ]
}